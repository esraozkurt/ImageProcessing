{
 "cells": [
  {
   "cell_type": "markdown",
   "id": "fb751033",
   "metadata": {},
   "source": [
    "# Python Giris"
   ]
  },
  {
   "cell_type": "code",
   "execution_count": 3,
   "id": "9042998b",
   "metadata": {},
   "outputs": [
    {
     "name": "stdout",
     "output_type": "stream",
     "text": [
      "Kac sayi girilecek: 4\n",
      "Sayi gir: 10\n",
      "Sayi gir: 20\n",
      "Sayi gir: 30\n",
      "Sayi gir: 40\n",
      "Girilen sayilarin ortalamasi:  25.0\n"
     ]
    }
   ],
   "source": [
    "n = int(input(\"Kac sayi girilecek: \"))\n",
    "a = []\n",
    "for i in range(0,n): #0-n arasi\n",
    "    eleman = int(input(\"Sayi gir: \"))\n",
    "    a.append(eleman) #ekle\n",
    "avg = sum(a)/n #ortalama al\n",
    "print(\"Girilen sayilarin ortalamasi: \", round(avg,2))"
   ]
  },
  {
   "cell_type": "code",
   "execution_count": 6,
   "id": "872d6ad2",
   "metadata": {},
   "outputs": [
    {
     "name": "stdout",
     "output_type": "stream",
     "text": [
      "2\n",
      "4\n",
      "6\n",
      "8\n",
      "10\n"
     ]
    }
   ],
   "source": [
    "liste = [1,2,3,4,5,6,7,8,9,10]\n",
    "for i in liste:\n",
    "    if i % 2 == 0:\n",
    "        print(i)    "
   ]
  },
  {
   "cell_type": "code",
   "execution_count": 9,
   "id": "53a1dd1e",
   "metadata": {},
   "outputs": [
    {
     "name": "stdout",
     "output_type": "stream",
     "text": [
      "Sayi gir: 12\n",
      "Sayi 10'dan buyuktur\n"
     ]
    }
   ],
   "source": [
    "n = int(input(\"Sayi gir: \"))\n",
    "if n > 10:\n",
    "    print(\"Sayi 10'dan buyuktur\")\n",
    "elif n == 10:\n",
    "    print(\"Sayi 10'a esittir\")\n",
    "else:\n",
    "    print(\"Sayi 10'dan kucuktur\")"
   ]
  },
  {
   "cell_type": "code",
   "execution_count": 12,
   "id": "12acf831",
   "metadata": {},
   "outputs": [
    {
     "name": "stdout",
     "output_type": "stream",
     "text": [
      "1\n",
      "2\n",
      "3\n",
      "4\n",
      "5\n"
     ]
    }
   ],
   "source": [
    "i = 1\n",
    "while i < 10:\n",
    "  print(i)\n",
    "  if i == 5: #5'te dur\n",
    "    break\n",
    "  i += 1"
   ]
  },
  {
   "cell_type": "code",
   "execution_count": 13,
   "id": "ce962111",
   "metadata": {},
   "outputs": [
    {
     "name": "stdout",
     "output_type": "stream",
     "text": [
      "1\n",
      "2\n",
      "3\n",
      "4\n",
      "6\n",
      "7\n",
      "8\n",
      "9\n",
      "10\n"
     ]
    }
   ],
   "source": [
    "i = 0\n",
    "while i < 10:\n",
    "  i += 1\n",
    "  if i == 5: #5'i atla\n",
    "    continue\n",
    "  print(i)"
   ]
  }
 ],
 "metadata": {
  "kernelspec": {
   "display_name": "Python 3 (ipykernel)",
   "language": "python",
   "name": "python3"
  },
  "language_info": {
   "codemirror_mode": {
    "name": "ipython",
    "version": 3
   },
   "file_extension": ".py",
   "mimetype": "text/x-python",
   "name": "python",
   "nbconvert_exporter": "python",
   "pygments_lexer": "ipython3",
   "version": "3.9.12"
  }
 },
 "nbformat": 4,
 "nbformat_minor": 5
}
